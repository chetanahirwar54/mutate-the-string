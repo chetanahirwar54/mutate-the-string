{
 "cells": [
  {
   "cell_type": "markdown",
   "metadata": {},
   "source": [
    "<p> We have seen that lists are mutable (they can be changed), and tuples are immutable (they cannot be changed).<p/>\n",
    "\n",
    "<p>Let's try to understand this with an example.<p/>\n",
    "\n",
    "<p>You are given an immutable string, and you want to make changes to it. <p/>\n",
    "\n",
    "<b>Example<b/>\n",
    "\n",
    "<p>>>> string = \"abracadabra\" <p/>\n",
    "\n",
    "You can access an index by:\n",
    "\n",
    "<p>>>> print string[5] <p/>\n",
    "a\n",
    "\n",
    "What if you would like to assign a value?\n",
    "\n",
    "\n",
    "<p>>>> string[5] = 'k' <p/> \n",
    "\n",
    "<i>Traceback (most recent call last):\n",
    "  File \"<stdin>\", line 1, in <module>\n",
    "TypeError: 'str' object does not support item assignment<i/>\n",
    "\n",
    "How would you approach this?\n",
    "\n",
    "- One solution is to convert the string to a list and then change the value.\n",
    "\n",
    "Example\n",
    "\n",
    "<p> >>> string = \"abracadabra\" <p/>\n",
    "<p> >>> l = list(string) <p/>\n",
    "<p> >>> l[5] = 'k' <p/>\n",
    "<p> >>> string = ''.join(l) <p/>\n",
    "<p> >>> print string <p/>\n",
    "<p> abrackdabra <p/> \n",
    "\n",
    "Another approach is to slice the string and join it back.\n",
    "<b>Example <b/>\n",
    "\n",
    "<p> >>> string = string[:5] + \"k\" + string[6:] <p/>\n",
    "<p> >>> print string <p/>\n",
    "<p> abrackdabra <p/>\n",
    "\n",
    "<b>Task <b/>\n",
    "Read a given string, change the character at a given index and then print the modified string.\n",
    "\n",
    "<b>Input Format <b/>\n",
    "The first line contains a string, .\n",
    "The next line contains an integer , denoting the index location and a character  separated by a space.\n",
    "\n",
    "<b>Output Format<b/>\n",
    "Using any of the methods explained above, replace the character at index  with character .\n",
    "\n",
    "<b>Sample Input<b/>\n",
    "\n",
    "abracadabra <br/>\n",
    "5 k <br/>\n",
    "\n",
    "<b>Sample Output<b/>\n",
    "\n",
    "abrackdabra"
   ]
  },
  {
   "cell_type": "code",
   "execution_count": 2,
   "metadata": {},
   "outputs": [],
   "source": [
    "def mutate_string(string, position, character):\n",
    "    string = string[:position] + character + string[(position+1):]\n",
    "    return string"
   ]
  },
  {
   "cell_type": "code",
   "execution_count": 4,
   "metadata": {},
   "outputs": [
    {
     "name": "stdout",
     "output_type": "stream",
     "text": [
      "abrackdabra\n"
     ]
    }
   ],
   "source": [
    "s_new = mutate_string('abracadabra', int(5), 'k')\n",
    "print(s_new)"
   ]
  },
  {
   "cell_type": "code",
   "execution_count": null,
   "metadata": {},
   "outputs": [],
   "source": []
  }
 ],
 "metadata": {
  "kernelspec": {
   "display_name": "Python 3",
   "language": "python",
   "name": "python3"
  },
  "language_info": {
   "codemirror_mode": {
    "name": "ipython",
    "version": 3
   },
   "file_extension": ".py",
   "mimetype": "text/x-python",
   "name": "python",
   "nbconvert_exporter": "python",
   "pygments_lexer": "ipython3",
   "version": "3.7.3"
  }
 },
 "nbformat": 4,
 "nbformat_minor": 2
}
